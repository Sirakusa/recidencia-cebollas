{
  "cells": [
    {
      "cell_type": "markdown",
      "metadata": {},
      "source": [
        "#Set de datos de las cebollas\n",
        "\n",
        "La siguiente linea esta comentada ya que el set de datos se encuentra en cebollas-yolo-1"
      ]
    },
    {
      "cell_type": "code",
      "execution_count": null,
      "metadata": {
        "id": "lFLJomKPvZqa"
      },
      "outputs": [],
      "source": [
        "# es el set de datos de las cebollas\n",
        "\n",
        "# %pip install roboflow\n",
        "\n",
        "# from roboflow import Roboflow\n",
        "# rf = Roboflow(api_key=\"aWMgTl5BtLRKVG2E74ek\")\n",
        "# project = rf.workspace(\"itd-vaymw\").project(\"cebollas-con-yolo\")\n",
        "# dataset = project.version(1).download(\"yolov7\")"
      ]
    },
    {
      "cell_type": "markdown",
      "metadata": {},
      "source": [
        "#Con la siguientes lineas se entrenan las imagenes de las cebollas\n",
        "\n",
        "NO ES NECESARIO CORRER LA SIGUENTE LINEA YA QUE EL MODELO ENTRENADO SE ENCUENTRA EN LA CARPETA **runs/train/exp/weights/best.pt**\n",
        "\n",
        "ES NECESARIO CONTAR CON UNA GPU DE NVIDIA SI ES QUE SE QUIERE VOLVER A ENTRENAR"
      ]
    },
    {
      "cell_type": "code",
      "execution_count": null,
      "metadata": {
        "colab": {
          "base_uri": "https://localhost:8080/"
        },
        "id": "2iC2Ywx1vcR-",
        "outputId": "004812c3-ac0a-4741-db83-57075abd8311"
      },
      "outputs": [],
      "source": [
        "DATA_FILE='cebollas-con-yolo-1/data.yaml'\n",
        "!python train.py --batch 16 --epochs 55 --data $DATA_FILE --weights yolov7_training.pt --cache"
      ]
    },
    {
      "cell_type": "markdown",
      "metadata": {},
      "source": [
        "#PROBAR EL MODELO"
      ]
    },
    {
      "cell_type": "markdown",
      "metadata": {},
      "source": [
        "##Probar el modelo con las imagenes de prueba  y al finalizar se encontrara en un carpeta llamada **exp** con el resultado en la ruta **runs/detect**"
      ]
    },
    {
      "cell_type": "code",
      "execution_count": null,
      "metadata": {
        "colab": {
          "base_uri": "https://localhost:8080/"
        },
        "id": "a6rAeNDs9S3j",
        "outputId": "41d89f06-958b-40c6-9a5f-30e12068d6a4"
      },
      "outputs": [],
      "source": [
        "MODEL_INIT='runs/train/exp/weights/best.pt'\n",
        "DATA_SET='cebollas-con-yolo-1/test/images/'\n",
        "\n",
        "!python detect.py --weights $MODEL_INIT --conf 0.1 --source $DATA_SET"
      ]
    },
    {
      "cell_type": "markdown",
      "metadata": {},
      "source": [
        "##Probar el modelo con una imagen individual\n",
        "\n",
        "Se tiene que colocar una imagen en la carpeta **imagenes** y al finalizar se encontrara en un carpeta llamada **exp** con el resultado en la ruta **runs/detect**"
      ]
    },
    {
      "cell_type": "code",
      "execution_count": null,
      "metadata": {},
      "outputs": [],
      "source": [
        "MODEL_INIT='runs/train/exp/weights/best.pt'\n",
        "DATA_SET='imagenes/IMG_1207.JPG'\n",
        "\n",
        "!python detect.py --weights $MODEL_INIT --conf 0.1 --source $DATA_SET"
      ]
    },
    {
      "cell_type": "markdown",
      "metadata": {},
      "source": [
        "##Probar el modelo con un video\n",
        "\n",
        "El video se tiene que almacenar en la carpeta **video** y al finalizar se encontrara en un carpeta llamada **exp** con el resultado en la ruta **runs/detect**"
      ]
    },
    {
      "cell_type": "code",
      "execution_count": null,
      "metadata": {
        "id": "EhA2_h1z94D5"
      },
      "outputs": [],
      "source": [
        "DETECTION='detect.py'\n",
        "MODEL = 'runs/train/exp/weights/best.pt'\n",
        "VIDEO='video/img-1206_pAjamf5f.mp4'\n",
        "\n",
        "!python $DETECTION --weights $MODEL --source $VIDEO"
      ]
    }
  ],
  "metadata": {
    "accelerator": "GPU",
    "colab": {
      "gpuType": "T4",
      "provenance": []
    },
    "kernelspec": {
      "display_name": "Python 3",
      "name": "python3"
    },
    "language_info": {
      "codemirror_mode": {
        "name": "ipython",
        "version": 3
      },
      "file_extension": ".py",
      "mimetype": "text/x-python",
      "name": "python",
      "nbconvert_exporter": "python",
      "pygments_lexer": "ipython3",
      "version": "3.11.3"
    }
  },
  "nbformat": 4,
  "nbformat_minor": 0
}
