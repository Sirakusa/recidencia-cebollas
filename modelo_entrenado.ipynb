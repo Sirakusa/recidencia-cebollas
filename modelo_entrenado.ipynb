{
  "cells": [
    {
      "cell_type": "markdown",
      "metadata": {},
      "source": [
        "#Set de datos de las cebollas\n",
        "\n",
        "La siguiente linea esta comentada ya que el set de datos se encuentra en cebollas-yolo-1"
      ]
    },
    {
      "cell_type": "code",
      "execution_count": null,
      "metadata": {
        "id": "lFLJomKPvZqa"
      },
      "outputs": [],
      "source": [
        "# es el set de datos de las cebollas\n",
        "\n",
        "# %pip install roboflow\n",
        "\n",
        "# from roboflow import Roboflow\n",
        "# rf = Roboflow(api_key=\"aWMgTl5BtLRKVG2E74ek\")\n",
        "# project = rf.workspace(\"itd-vaymw\").project(\"cebollas-con-yolo\")\n",
        "# dataset = project.version(1).download(\"yolov7\")"
      ]
    },
    {
      "cell_type": "markdown",
      "metadata": {},
      "source": [
        "#Con la siguientes lineas se entrenan las imagenes de las cebollas\n",
        "\n",
        "NO ES NECESARIO CORRER LA SIGUENTE LINEA YA QUE EL MODELO ENTRENADO SE ENCUENTRA EN LA CARPETA **runs/train/exp/weights/best.pt**\n",
        "\n",
        "ES NECESARIO CONTAR CON UNA GPU DE NVIDIA SI ES QUE SE QUIERE VOLVER A ENTRENAR"
      ]
    },
    {
      "cell_type": "code",
      "execution_count": null,
      "metadata": {
        "colab": {
          "base_uri": "https://localhost:8080/"
        },
        "id": "2iC2Ywx1vcR-",
        "outputId": "004812c3-ac0a-4741-db83-57075abd8311"
      },
      "outputs": [],
      "source": [
        "DATA_FILE='cebollas-con-yolo-1/data.yaml'\n",
        "!python train.py --batch 16 --epochs 55 --data $DATA_FILE --weights yolov7_training.pt --cache"
      ]
    },
    {
      "cell_type": "markdown",
      "metadata": {},
      "source": [
        "#PROBAR EL MODELO"
      ]
    },
    {
      "cell_type": "markdown",
      "metadata": {},
      "source": [
        "##Probar el modelo con las imagenes de prueba \n",
        "Al finalizar se encontrara en un carpeta llamada **exp** con el resultado en la ruta **runs/detect**"
      ]
    },
    {
      "cell_type": "code",
      "execution_count": null,
      "metadata": {
        "colab": {
          "base_uri": "https://localhost:8080/"
        },
        "id": "a6rAeNDs9S3j",
        "outputId": "41d89f06-958b-40c6-9a5f-30e12068d6a4"
      },
      "outputs": [],
      "source": [
        "MODEL_INIT='runs/train/exp/weights/best.pt'\n",
        "DATA_SET='cebollas-con-yolo-1/test/images/'\n",
        "\n",
        "!python detect.py --weights $MODEL_INIT --conf 0.1 --source $DATA_SET"
      ]
    },
    {
      "cell_type": "markdown",
      "metadata": {},
      "source": [
        "##Probar el modelo con una imagen individual\n",
        "\n",
        "Se tiene que colocar una imagen en la carpeta **imagenes** y al finalizar se encontrara en un carpeta llamada **exp** con el resultado en la ruta **runs/detect**"
      ]
    },
    {
      "cell_type": "code",
      "execution_count": null,
      "metadata": {},
      "outputs": [],
      "source": [
        "MODEL_INIT='runs/train/exp/weights/best.pt'\n",
        "DATA_SET='imagenes/IMG_1207.JPG'\n",
        "\n",
        "!python detect.py --weights $MODEL_INIT --conf 0.1 --source $DATA_SET"
      ]
    },
    {
      "cell_type": "markdown",
      "metadata": {},
      "source": [
        "##Probar el modelo con un video\n",
        "\n",
        "El video se tiene que almacenar en la carpeta **video** y al finalizar se encontrara en un carpeta llamada **exp** con el resultado en la ruta **runs/detect**"
      ]
    },
    {
      "cell_type": "code",
      "execution_count": null,
      "metadata": {
        "id": "EhA2_h1z94D5"
      },
      "outputs": [],
      "source": [
        "DETECTION='detect.py'\n",
        "MODEL = 'runs/train/exp/weights/best.pt'\n",
        "VIDEO='video/img-1206_pAjamf5f.mp4'\n",
        "\n",
        "!python $DETECTION --weights $MODEL --source $VIDEO"
      ]
    },
    {
      "cell_type": "markdown",
      "metadata": {},
      "source": [
        "![enter image description here](https://scontent.fdgo2-1.fna.fbcdn.net/v/t1.15752-9/399916049_1790929988007897_3546262082506085700_n.png?stp=dst-png_s2048x2048&_nc_cat=108&ccb=1-7&_nc_sid=8cd0a2&_nc_eui2=AeHxT8pIfjW7DwS1Am4dOyiCOzy1OhzOV647PLU6HM5XritglkhuOO15zjUckwWNpOMHdRaHYWt1t7xnlk87wxCN&_nc_ohc=pG3U0KEUwHIAX--6iyh&_nc_ht=scontent.fdgo2-1.fna&cb_e2o_trans=t&oh=03_AdTTnct5X2tOEWZRqhdwy46zmExBt9MVQkCdijtuB2Zl_g&oe=657D4C4F)"
      ]
    },
    {
      "cell_type": "markdown",
      "metadata": {},
      "source": [
        "![enter image description here](https://scontent.fdgo2-1.fna.fbcdn.net/v/t1.15752-9/368042097_1767597483691026_8489619718981230105_n.png?stp=dst-png_s2048x2048&_nc_cat=104&ccb=1-7&_nc_sid=8cd0a2&_nc_eui2=AeH3yA-RxHKDoIQ0vgdOxwjLL9RrspxDyNYv1GuynEPI1h5p4mC5CQNwmJVAXoFzzAINFxAe5Zv-MvgY0L6FxvU7&_nc_ohc=P6VeZtuvBU4AX8mHGpi&_nc_ht=scontent.fdgo2-1.fna&cb_e2o_trans=t&oh=03_AdT3D5aBK2ji_gXjh13bNoP-a97dq9tvomPF1FlsbJiOdw&oe=657D58C9)"
      ]
    },
    {
      "cell_type": "markdown",
      "metadata": {},
      "source": [
        "![enter image description here](https://scontent.fdgo2-1.fna.fbcdn.net/v/t1.15752-9/400111089_1483447022434092_7752966386322518687_n.png?stp=dst-png_s2048x2048&_nc_cat=100&ccb=1-7&_nc_sid=8cd0a2&_nc_eui2=AeG6qkWv06CFmeu2PNw-N5WcqIMv7NHpM2Wogy_s0ekzZbChG5oTas81lURdYXIfqDdX4qpvFMBEPPbSamYMsnec&_nc_ohc=tMcWyN_Eo_EAX-dt3Rx&_nc_ht=scontent.fdgo2-1.fna&cb_e2o_trans=t&oh=03_AdTREGXl6WDx-iOzDIb7YKvDAQavO4uiALVcxE_2LlF1kQ&oe=657D76F1)"
      ]
    },
    {
      "cell_type": "markdown",
      "metadata": {},
      "source": [
        "![enter image description here](https://scontent.fdgo2-1.fna.fbcdn.net/v/t1.15752-9/399744584_246567588149621_4025466321633046323_n.png?stp=dst-png_s2048x2048&_nc_cat=102&ccb=1-7&_nc_sid=8cd0a2&_nc_eui2=AeG1YTKsjXS-oRqa-_nf6dq0C6wsvsKD04wLrCy-woPTjNsiqH17phfQ1YDmqAAQnoW62WTnDLia9AJsyKDBjLog&_nc_ohc=UAnUdbEoeP8AX9a7VNU&_nc_ht=scontent.fdgo2-1.fna&cb_e2o_trans=t&oh=03_AdRGUZfJ02EtsgV0IhVnQ7iflYW_9xi971v3JyM1JTzPFg&oe=657D582C)"
      ]
    }
  ],
  "metadata": {
    "accelerator": "GPU",
    "colab": {
      "gpuType": "T4",
      "provenance": []
    },
    "kernelspec": {
      "display_name": "Python 3",
      "name": "python3"
    },
    "language_info": {
      "codemirror_mode": {
        "name": "ipython",
        "version": 3
      },
      "file_extension": ".py",
      "mimetype": "text/x-python",
      "name": "python",
      "nbconvert_exporter": "python",
      "pygments_lexer": "ipython3",
      "version": "3.11.3"
    }
  },
  "nbformat": 4,
  "nbformat_minor": 0
}
